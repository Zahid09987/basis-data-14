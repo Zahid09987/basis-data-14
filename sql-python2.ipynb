{
 "cells": [
  {
   "cell_type": "markdown",
   "id": "caefe42a",
   "metadata": {},
   "source": [
    "# **Prereuisite: Installing MySQL connector using Python**"
   ]
  },
  {
   "cell_type": "code",
   "execution_count": 1,
   "id": "0116f600-1dfd-4f9c-84a3-7731b5c7db2e",
   "metadata": {},
   "outputs": [
    {
     "name": "stdout",
     "output_type": "stream",
     "text": [
      "Requirement already satisfied: mysql-connector-python in ./.venv/lib/python3.13/site-packages (9.1.0)\n",
      "Note: you may need to restart the kernel to use updated packages.\n"
     ]
    }
   ],
   "source": [
    "%pip install mysql-connector-python"
   ]
  },
  {
   "cell_type": "markdown",
   "id": "c6e3b401",
   "metadata": {},
   "source": [
    "# **Pre-exercise: Python and MySQL connections**"
   ]
  },
  {
   "cell_type": "code",
   "execution_count": 1,
   "id": "32351361",
   "metadata": {},
   "outputs": [],
   "source": [
    "import mysql.connector as connector"
   ]
  },
  {
   "cell_type": "code",
   "execution_count": 2,
   "id": "73c8301b",
   "metadata": {},
   "outputs": [],
   "source": [
    "connection = connector.connect(user=\"zahidrf\", password=\"232321Fa\", port=3306, host=\"127.0.0.1\")"
   ]
  },
  {
   "cell_type": "code",
   "execution_count": 3,
   "id": "6c581538",
   "metadata": {},
   "outputs": [
    {
     "name": "stdout",
     "output_type": "stream",
     "text": [
      "Whoops... There was an error connecting to the database because you entered the wrong user and password. Please input your correct user and password again.\n"
     ]
    }
   ],
   "source": [
    "try:\n",
    "    connection=connector.connect(user=\"not_zahidrf\", password=\"090932Gs\")\n",
    "except:\n",
    "    print(\"Whoops... There was an error connecting to the database because you entered the wrong user and password. Please input your correct user and password again.\")"
   ]
  },
  {
   "cell_type": "code",
   "execution_count": 4,
   "id": "1af759e5",
   "metadata": {},
   "outputs": [
    {
     "name": "stdout",
     "output_type": "stream",
     "text": [
      "The database does not exist. You may need to create one.\n"
     ]
    }
   ],
   "source": [
    "import mysql.connector as connector\n",
    "from mysql.connector import errorcode\n",
    "try:\n",
    "    connection=connector.connect(user=\"zahidrf\", password=\"232321Fa\", database=\"big_lemon\")\n",
    "\n",
    "except connector.Error as err:\n",
    "    if err.errno == errorcode.ER_ACCESS_DENIED_ERROR:\n",
    "        print(\"Something is wrong with your user name or password because you entered the wrong one. Please try again with the correct one or enter the correct user and password.\")\n",
    "    elif err.errno == errorcode.ER_BAD_DB_ERROR:\n",
    "        print(\"The database does not exist. You may need to create one.\")\n",
    "    else:\n",
    "        print(err)"
   ]
  },
  {
   "cell_type": "markdown",
   "id": "18defd8a",
   "metadata": {},
   "source": [
    "# **Exercise Time: Creating a table structure in a MySQL database using Python**"
   ]
  },
  {
   "cell_type": "markdown",
   "id": "98e6e933",
   "metadata": {},
   "source": [
    "## **Prerequisite: Cursor for execution, create the database \"little_lemon\", and activate it**"
   ]
  },
  {
   "cell_type": "code",
   "execution_count": 5,
   "id": "ab16ba0b",
   "metadata": {},
   "outputs": [],
   "source": [
    "cursor = connection.cursor()"
   ]
  },
  {
   "cell_type": "code",
   "execution_count": 6,
   "id": "5cd678a1",
   "metadata": {},
   "outputs": [],
   "source": [
    "creating_database = \"CREATE DATABASE little_lemon;\""
   ]
  },
  {
   "cell_type": "code",
   "execution_count": 7,
   "id": "d5ef54b2",
   "metadata": {},
   "outputs": [],
   "source": [
    "cursor.execute(creating_database)"
   ]
  },
  {
   "cell_type": "code",
   "execution_count": 8,
   "id": "7ce13d52",
   "metadata": {},
   "outputs": [],
   "source": [
    "activating_database = \"USE little_lemon;\""
   ]
  },
  {
   "cell_type": "code",
   "execution_count": 9,
   "id": "f5db6816",
   "metadata": {},
   "outputs": [],
   "source": [
    "cursor.execute(activating_database)"
   ]
  },
  {
   "cell_type": "markdown",
   "id": "918bd484",
   "metadata": {},
   "source": [
    "## **1st Task**"
   ]
  },
  {
   "cell_type": "code",
   "execution_count": 10,
   "id": "8c9b98d2",
   "metadata": {},
   "outputs": [
    {
     "name": "stdout",
     "output_type": "stream",
     "text": [
      "('aplikasi_berita',)\n",
      "('customers',)\n",
      "('information_schema',)\n",
      "('inventory_management',)\n",
      "('little_lemon',)\n",
      "('my_testing_app',)\n",
      "('mysql',)\n",
      "('night_club_bar',)\n",
      "('performance_schema',)\n",
      "('phpmyadmin',)\n",
      "('python',)\n",
      "('restaurant',)\n",
      "('restaurant_db',)\n",
      "('sys',)\n",
      "('wordpress',)\n"
     ]
    }
   ],
   "source": [
    "cursor.execute(\"SHOW DATABASES\")\n",
    "for database in cursor:\n",
    "    print(database)"
   ]
  },
  {
   "cell_type": "markdown",
   "id": "4f9c6090",
   "metadata": {},
   "source": [
    "## **2nd Task**"
   ]
  },
  {
   "cell_type": "code",
   "execution_count": 11,
   "id": "2d182512",
   "metadata": {},
   "outputs": [
    {
     "data": {
      "text/plain": [
       "'little_lemon'"
      ]
     },
     "execution_count": 11,
     "metadata": {},
     "output_type": "execute_result"
    }
   ],
   "source": [
    "connection.database"
   ]
  },
  {
   "cell_type": "markdown",
   "id": "ca607aec",
   "metadata": {},
   "source": [
    "## **3rd Task**"
   ]
  },
  {
   "cell_type": "code",
   "execution_count": 12,
   "id": "fb5d47c8",
   "metadata": {},
   "outputs": [],
   "source": [
    "create_menuitem_table = \"\"\"CREATE TABLE MenuItems(\n",
    "    ItemID INT AUTO_INCREMENT,\n",
    "    Name VARCHAR(200),\n",
    "    Type VARCHAR(100),\n",
    "    Price INT,\n",
    "    PRIMARY KEY (ItemID)\n",
    ");\"\"\""
   ]
  },
  {
   "cell_type": "code",
   "execution_count": 13,
   "id": "62d7fa1d",
   "metadata": {},
   "outputs": [],
   "source": [
    "cursor.execute(create_menuitem_table)"
   ]
  },
  {
   "cell_type": "code",
   "execution_count": 14,
   "id": "b50bd194",
   "metadata": {},
   "outputs": [
    {
     "name": "stdout",
     "output_type": "stream",
     "text": [
      "('MenuItems',)\n"
     ]
    }
   ],
   "source": [
    "cursor.execute(\"SHOW TABLES\")\n",
    "for table in cursor:\n",
    "    print(table)"
   ]
  },
  {
   "cell_type": "markdown",
   "id": "3c7b8a5f",
   "metadata": {},
   "source": [
    "## **4th Task**"
   ]
  },
  {
   "cell_type": "code",
   "execution_count": 15,
   "id": "d172b639",
   "metadata": {},
   "outputs": [],
   "source": [
    "create_menu_table = \"\"\"CREATE TABLE Menus(\n",
    "    MenuID INT,\n",
    "    ItemID INT,\n",
    "    Cuisine VARCHAR(100),\n",
    "    PRIMARY KEY (MenuID, ItemID)\n",
    ");\"\"\""
   ]
  },
  {
   "cell_type": "code",
   "execution_count": 16,
   "id": "d9766271",
   "metadata": {},
   "outputs": [],
   "source": [
    "cursor.execute(create_menu_table)"
   ]
  },
  {
   "cell_type": "code",
   "execution_count": 17,
   "id": "3e192a20",
   "metadata": {},
   "outputs": [
    {
     "name": "stdout",
     "output_type": "stream",
     "text": [
      "('MenuItems',)\n",
      "('Menus',)\n"
     ]
    }
   ],
   "source": [
    "cursor.execute(\"SHOW TABLES\")\n",
    "for table in cursor:\n",
    "    print(table)"
   ]
  },
  {
   "cell_type": "markdown",
   "id": "2ac47d4d",
   "metadata": {},
   "source": [
    "## **5th Task**"
   ]
  },
  {
   "cell_type": "code",
   "execution_count": 18,
   "id": "2a560931",
   "metadata": {},
   "outputs": [],
   "source": [
    "create_booking_table=\"\"\"CREATE Table Bookings (\n",
    "    BookingID INT AUTO_INCREMENT,\n",
    "    TableNo INT,\n",
    "    GuestFirstName VARCHAR(100) NOT NULL,\n",
    "    GuestLastName VARCHAR(100) NOT NULL,\n",
    "    BookingSlot TIME NOT NULL,\n",
    "    EmployeeID INT,\n",
    "    PRIMARY KEY (BookingID)\n",
    ");\"\"\""
   ]
  },
  {
   "cell_type": "code",
   "execution_count": 19,
   "id": "270ea95e",
   "metadata": {},
   "outputs": [],
   "source": [
    "cursor.execute(create_booking_table)"
   ]
  },
  {
   "cell_type": "code",
   "execution_count": 20,
   "id": "776c647d",
   "metadata": {},
   "outputs": [
    {
     "name": "stdout",
     "output_type": "stream",
     "text": [
      "('Bookings',)\n",
      "('MenuItems',)\n",
      "('Menus',)\n"
     ]
    }
   ],
   "source": [
    "cursor.execute(\"SHOW TABLES\")\n",
    "for table in cursor:\n",
    "    print(table)"
   ]
  },
  {
   "cell_type": "markdown",
   "id": "639d1604",
   "metadata": {},
   "source": [
    "## **6th (and final) Task**"
   ]
  },
  {
   "cell_type": "code",
   "execution_count": 21,
   "id": "8b9e76e9",
   "metadata": {},
   "outputs": [],
   "source": [
    "create_orders_table=\"\"\"CREATE TABLE Orders (\n",
    "    OrderID INT,\n",
    "    TableNo INT,\n",
    "    MenuID INT,\n",
    "    BookingID INT,\n",
    "    BillAmount INT,\n",
    "    Quantity INT,\n",
    "    PRIMARY KEY (OrderID, TableNo)\n",
    ");\"\"\""
   ]
  },
  {
   "cell_type": "code",
   "execution_count": 22,
   "id": "97bf44cc",
   "metadata": {},
   "outputs": [],
   "source": [
    "cursor.execute(create_orders_table)"
   ]
  },
  {
   "cell_type": "code",
   "execution_count": 23,
   "id": "0c305cd4",
   "metadata": {},
   "outputs": [
    {
     "name": "stdout",
     "output_type": "stream",
     "text": [
      "('Bookings',)\n",
      "('MenuItems',)\n",
      "('Menus',)\n",
      "('Orders',)\n"
     ]
    }
   ],
   "source": [
    "cursor.execute(\"SHOW TABLES\")\n",
    "for table in cursor:\n",
    "    print(table)"
   ]
  }
 ],
 "metadata": {
  "kernelspec": {
   "display_name": ".venv",
   "language": "python",
   "name": "python3"
  },
  "language_info": {
   "codemirror_mode": {
    "name": "ipython",
    "version": 3
   },
   "file_extension": ".py",
   "mimetype": "text/x-python",
   "name": "python",
   "nbconvert_exporter": "python",
   "pygments_lexer": "ipython3",
   "version": "3.13.1"
  }
 },
 "nbformat": 4,
 "nbformat_minor": 5
}
